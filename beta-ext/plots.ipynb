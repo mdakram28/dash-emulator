{
 "cells": [
  {
   "cell_type": "code",
   "execution_count": 9,
   "metadata": {},
   "outputs": [],
   "source": [
    "import pandas as pd\n",
    "import json\n",
    "from pprint import pprint\n",
    "\n",
    "import numpy as np\n",
    "import matplotlib.pyplot as plt"
   ]
  },
  {
   "cell_type": "code",
   "execution_count": 73,
   "metadata": {},
   "outputs": [],
   "source": [
    "def read_stats(codec,video,length,beta):\n",
    "    name = f\"result-{codec}-{video}\"\n",
    "    if length == 2:\n",
    "        name += \"-2sec\"\n",
    "    if beta:\n",
    "        name += \"--beta\"\n",
    "    \n",
    "    tries = 0\n",
    "    data = {\n",
    "        \"num_stall\": [],\n",
    "        \"dur_stall\": []\n",
    "    }\n",
    "    try:\n",
    "        while True:\n",
    "            path = f\"../results/{name}-{str(tries+1)}.json\"\n",
    "            with open(path) as f:\n",
    "                d = json.load(f)\n",
    "                data[\"num_stall\"].append(d[\"num_stall\"])\n",
    "                data[\"dur_stall\"].append(d[\"dur_stall\"])\n",
    "            tries += 1\n",
    "    except:\n",
    "        pass\n",
    "\n",
    "    data[\"num_stall\"] = sum(data[\"num_stall\"])/len(data[\"num_stall\"])\n",
    "    data[\"dur_stall\"] = sum(data[\"dur_stall\"])/len(data[\"dur_stall\"])\n",
    "    return data\n"
   ]
  },
  {
   "cell_type": "code",
   "execution_count": 74,
   "metadata": {},
   "outputs": [
    {
     "data": {
      "image/png": "[encoded data removed]",
      "text/plain": [
       "<Figure size 720x360 with 1 Axes>"
      ]
     },
     "metadata": {
      "needs_background": "light"
     },
     "output_type": "display_data"
    }
   ],
   "source": [
    "video = \"Football\"\n",
    "codec = \"hevc\"\n",
    "prop = \"dur_stall\"\n",
    "\n",
    "data = {}\n",
    "data[\"BETA(1-sec)\"] = read_stats(codec, video, 1, True)[prop]\n",
    "data[\"Non-BETA(1-sec)\"] = read_stats(codec, video, 1, False)[prop]\n",
    "data[\"BETA(2-sec)\"] = read_stats(codec, video, 2, True)[prop]\n",
    "data[\"Non-BETA(2-sec)\"] = read_stats(codec, video, 2, False)[prop]\n",
    "courses = list(data.keys())\n",
    "values = list(data.values())\n",
    "  \n",
    "fig = plt.figure(figsize = (10, 5))\n",
    " \n",
    "# creating the bar plot\n",
    "plt.bar(courses, values, color ='maroon',\n",
    "        width = 0.4)\n",
    " \n",
    "# plt.xlabel(\"Courses offered\")\n",
    "plt.ylabel(\"num_stall\")\n",
    "plt.title(\"Aspen\")\n",
    "plt.show()\n"
   ]
  },
  {
   "cell_type": "code",
   "execution_count": 75,
   "metadata": {},
   "outputs": [
    {
     "data": {
      "text/html": [
       "<div>\n",
       "<style scoped>\n",
       "    .dataframe tbody tr th:only-of-type {\n",
       "        vertical-align: middle;\n",
       "    }\n",
       "\n",
       "    .dataframe tbody tr th {\n",
       "        vertical-align: top;\n",
       "    }\n",
       "\n",
       "    .dataframe thead th {\n",
       "        text-align: right;\n",
       "    }\n",
       "</style>\n",
       "<table border=\"1\" class=\"dataframe\">\n",
       "  <thead>\n",
       "    <tr style=\"text-align: right;\">\n",
       "      <th></th>\n",
       "      <th>BETA(1-sec)</th>\n",
       "      <th>Non-BETA(1-sec)</th>\n",
       "      <th>BETA(2-sec)</th>\n",
       "      <th>Non-BETA(2-sec)</th>\n",
       "    </tr>\n",
       "  </thead>\n",
       "  <tbody>\n",
       "    <tr>\n",
       "      <th>Aspen</th>\n",
       "      <td>2.851885</td>\n",
       "      <td>9.582165</td>\n",
       "      <td>2.960858</td>\n",
       "      <td>40.656509</td>\n",
       "    </tr>\n",
       "    <tr>\n",
       "      <th>BBB</th>\n",
       "      <td>5.960595</td>\n",
       "      <td>14.556862</td>\n",
       "      <td>2.206538</td>\n",
       "      <td>37.177490</td>\n",
       "    </tr>\n",
       "    <tr>\n",
       "      <th>Burn</th>\n",
       "      <td>3.236029</td>\n",
       "      <td>7.834810</td>\n",
       "      <td>0.000000</td>\n",
       "      <td>23.380874</td>\n",
       "    </tr>\n",
       "    <tr>\n",
       "      <th>Football</th>\n",
       "      <td>3.334383</td>\n",
       "      <td>10.123520</td>\n",
       "      <td>0.000000</td>\n",
       "      <td>27.222653</td>\n",
       "    </tr>\n",
       "  </tbody>\n",
       "</table>\n",
       "</div>"
      ],
      "text/plain": [
       "          BETA(1-sec)  Non-BETA(1-sec)  BETA(2-sec)  Non-BETA(2-sec)\n",
       "Aspen        2.851885         9.582165     2.960858        40.656509\n",
       "BBB          5.960595        14.556862     2.206538        37.177490\n",
       "Burn         3.236029         7.834810     0.000000        23.380874\n",
       "Football     3.334383        10.123520     0.000000        27.222653"
      ]
     },
     "execution_count": 75,
     "metadata": {},
     "output_type": "execute_result"
    },
    {
     "data": {
      "image/png": "[encoded data removed]",
      "text/plain": [
       "<Figure size 432x288 with 1 Axes>"
      ]
     },
     "metadata": {
      "needs_background": "light"
     },
     "output_type": "display_data"
    }
   ],
   "source": [
    "codec = \"av1\"\n",
    "prop = \"dur_stall\"\n",
    "\n",
    "groups = []\n",
    "videos = ['Aspen', 'BBB', \"Burn\", \"Football\"]\n",
    "\n",
    "for video in videos:\n",
    "    data = []\n",
    "    data.append(read_stats(codec, video, 1, True)[prop])\n",
    "    data.append(read_stats(codec, video, 1, False)[prop])\n",
    "    data.append(read_stats(codec, video, 2, True)[prop])\n",
    "    data.append(read_stats(codec, video, 2, False)[prop])\n",
    "    groups.append(data)\n",
    "\n",
    "\n",
    "# Convert data to pandas DataFrame.\n",
    "df = pd.DataFrame(groups, index=videos)\n",
    "# df\n",
    "df = df.rename(columns={\n",
    "    0:\"BETA(1-sec)\",\n",
    "    1:\"Non-BETA(1-sec)\",\n",
    "    2:\"BETA(2-sec)\",\n",
    "    3:\"Non-BETA(2-sec)\",\n",
    "})\n",
    "ax = df.plot.bar(bottom=-1)\n",
    "ax.set_ylabel(\"Stall Duration (s)\")\n",
    "# ax.set_ylim(-1)\n",
    "df"
   ]
  },
  {
   "cell_type": "code",
   "execution_count": null,
   "metadata": {},
   "outputs": [],
   "source": []
  }
 ],
 "metadata": {
  "interpreter": {
   "hash": "afd0ab83464d0918d38893fa04162780e604d65230f966635e15d3ed95cc99e5"
  },
  "kernelspec": {
   "display_name": "Python 3.9.12 ('beta')",
   "language": "python",
   "name": "python3"
  },
  "language_info": {
   "codemirror_mode": {
    "name": "ipython",
    "version": 3
   },
   "file_extension": ".py",
   "mimetype": "text/x-python",
   "name": "python",
   "nbconvert_exporter": "python",
   "pygments_lexer": "ipython3",
   "version": "3.9.12"
  },
  "orig_nbformat": 4
 },
 "nbformat": 4,
 "nbformat_minor": 2
}
