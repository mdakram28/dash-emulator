{
 "cells": [
  {
   "cell_type": "code",
   "execution_count": 1,
   "metadata": {},
   "outputs": [],
   "source": [
    "import pandas as pd\n",
    "import json\n",
    "from pprint import pprint\n",
    "\n",
    "import numpy as np\n",
    "import matplotlib.pyplot as plt\n",
    "import statistics"
   ]
  },
  {
   "cell_type": "code",
   "execution_count": 2,
   "metadata": {},
   "outputs": [],
   "source": [
    "def read_stats(protocol,codec,video,length,beta):\n",
    "    name = f\"result-{codec}-{video}\"\n",
    "    if length == 2:\n",
    "        name += \"-2sec\"\n",
    "    if beta:\n",
    "        name += \"--beta\"\n",
    "    name += f\"-{protocol}\"\n",
    "    tries = 0\n",
    "    data = {\n",
    "        \"num_stall\": [],\n",
    "        \"dur_stall\": []\n",
    "    }\n",
    "    try:\n",
    "        while True:\n",
    "            path = f\"../../results/{name}-{str(tries+1)}.json\"\n",
    "            with open(path) as f:\n",
    "                d = json.load(f)\n",
    "                data[\"num_stall\"].append(d[\"num_stall\"])\n",
    "                data[\"dur_stall\"].append(d[\"dur_stall\"])\n",
    "                print(path, d[\"dur_stall\"])\n",
    "            tries += 1\n",
    "    except:\n",
    "        pass\n",
    "    if len(data[\"num_stall\"]) > 1:\n",
    "        print(\"STD. DEV. (num_stall) = \", statistics.stdev(data[\"num_stall\"]))\n",
    "        print(\"STD. DEV. (dur_stall) = \", statistics.stdev(data[\"dur_stall\"]))\n",
    "    else:\n",
    "        print(\"Only 1 try\")\n",
    "    data[\"num_stall\"] = sum(data[\"num_stall\"])/len(data[\"num_stall\"])\n",
    "    data[\"dur_stall\"] = sum(data[\"dur_stall\"])/len(data[\"dur_stall\"])\n",
    "    return data\n"
   ]
  },
  {
   "cell_type": "code",
   "execution_count": 10,
   "metadata": {},
   "outputs": [
    {
     "name": "stdout",
     "output_type": "stream",
     "text": [
      "../../results/result-hevc-BBB--beta-tcp-1.json\n",
      "../../results/result-hevc-BBB--beta-tcp-2.json\n",
      "../../results/result-hevc-BBB--beta-tcp-3.json\n",
      "../../results/result-hevc-BBB--beta-tcp-4.json\n",
      "../../results/result-hevc-BBB--beta-tcp-5.json\n",
      "../../results/result-hevc-BBB--beta-tcp-6.json\n",
      "../../results/result-hevc-BBB--beta-tcp-7.json\n",
      "../../results/result-hevc-BBB--beta-tcp-8.json\n",
      "../../results/result-hevc-BBB--beta-tcp-9.json\n",
      "../../results/result-hevc-BBB--beta-tcp-10.json\n",
      "../../results/result-hevc-BBB--beta-tcp-11.json\n",
      "../../results/result-hevc-BBB--beta-tcp-12.json\n",
      "../../results/result-hevc-BBB--beta-tcp-13.json\n",
      "../../results/result-hevc-BBB--beta-tcp-14.json\n",
      "../../results/result-hevc-BBB--beta-tcp-15.json\n",
      "../../results/result-hevc-BBB--beta-tcp-16.json\n",
      "STD. DEV. (num_stall) =  0.0\n",
      "STD. DEV. (dur_stall) =  0.6980796474112032\n",
      "../../results/result-hevc-BBB--beta-quic-1.json\n",
      "../../results/result-hevc-BBB--beta-quic-2.json\n",
      "../../results/result-hevc-BBB--beta-quic-3.json\n",
      "../../results/result-hevc-BBB--beta-quic-4.json\n",
      "../../results/result-hevc-BBB--beta-quic-5.json\n",
      "../../results/result-hevc-BBB--beta-quic-6.json\n",
      "../../results/result-hevc-BBB--beta-quic-7.json\n",
      "../../results/result-hevc-BBB--beta-quic-8.json\n",
      "../../results/result-hevc-BBB--beta-quic-9.json\n",
      "../../results/result-hevc-BBB--beta-quic-10.json\n",
      "../../results/result-hevc-BBB--beta-quic-11.json\n",
      "../../results/result-hevc-BBB--beta-quic-12.json\n",
      "../../results/result-hevc-BBB--beta-quic-13.json\n",
      "../../results/result-hevc-BBB--beta-quic-14.json\n",
      "../../results/result-hevc-BBB--beta-quic-15.json\n",
      "../../results/result-hevc-BBB--beta-quic-16.json\n",
      "STD. DEV. (num_stall) =  0.0\n",
      "STD. DEV. (dur_stall) =  1.8592846241589822\n"
     ]
    },
    {
     "data": {
      "text/plain": [
       "{'BETA(1-sec)': 14.882203245162964, 'TASQ(1-sec)': 16.387540515263876}"
      ]
     },
     "metadata": {},
     "output_type": "display_data"
    },
    {
     "data": {
      "image/png": "[encoded data removed]",
      "text/plain": [
       "<Figure size 720x360 with 1 Axes>"
      ]
     },
     "metadata": {
      "needs_background": "light"
     },
     "output_type": "display_data"
    }
   ],
   "source": [
    "video = \"BBB\"\n",
    "codec = \"hevc\"\n",
    "prop = \"dur_stall\"\n",
    "\n",
    "data = {}\n",
    "data[\"BETA(1-sec)\"] = read_stats(\"tcp\",codec, video, 1, True)[prop]\n",
    "data[\"TASQ(1-sec)\"] = read_stats(\"quic\",codec, video, 1, True)[prop]\n",
    "# data[\"BETA(2-sec)\"] = read_stats(\"tcp\",codec, video, 2, True)[prop]\n",
    "# data[\"TASQ(2-sec)\"] = read_stats(\"quic\",codec, video, 2, True)[prop]\n",
    "display(data)\n",
    "courses = list(data.keys())\n",
    "values = list(data.values())\n",
    "  \n",
    "fig = plt.figure(figsize = (10, 5))\n",
    " \n",
    "# creating the bar plot\n",
    "plt.bar(courses, values, color ='maroon',\n",
    "        width = 0.4)\n",
    " \n",
    "# plt.xlabel(\"Courses offered\")\n",
    "plt.ylabel(prop)\n",
    "plt.title(video)\n",
    "plt.show()\n"
   ]
  },
  {
   "cell_type": "code",
   "execution_count": 5,
   "metadata": {},
   "outputs": [
    {
     "name": "stdout",
     "output_type": "stream",
     "text": [
      "../../results/result-hevc-BBB--beta-quic-1.json\n",
      "../../results/result-hevc-BBB--beta-quic-2.json\n",
      "../../results/result-hevc-BBB--beta-quic-3.json\n",
      "../../results/result-hevc-BBB--beta-quic-4.json\n",
      "../../results/result-hevc-BBB--beta-quic-5.json\n",
      "../../results/result-hevc-BBB--beta-quic-6.json\n",
      "STD. DEV. (num_stall) =  0.0\n",
      "STD. DEV. (dur_stall) =  1.2785878316101216\n",
      "../../results/result-hevc-BBB--beta-tcp-1.json\n",
      "../../results/result-hevc-BBB--beta-tcp-2.json\n",
      "../../results/result-hevc-BBB--beta-tcp-3.json\n",
      "../../results/result-hevc-BBB--beta-tcp-4.json\n",
      "../../results/result-hevc-BBB--beta-tcp-5.json\n",
      "../../results/result-hevc-BBB--beta-tcp-6.json\n",
      "STD. DEV. (num_stall) =  0.0\n",
      "STD. DEV. (dur_stall) =  0.5293512420582381\n"
     ]
    },
    {
     "data": {
      "text/html": [
       "<div>\n",
       "<style scoped>\n",
       "    .dataframe tbody tr th:only-of-type {\n",
       "        vertical-align: middle;\n",
       "    }\n",
       "\n",
       "    .dataframe tbody tr th {\n",
       "        vertical-align: top;\n",
       "    }\n",
       "\n",
       "    .dataframe thead th {\n",
       "        text-align: right;\n",
       "    }\n",
       "</style>\n",
       "<table border=\"1\" class=\"dataframe\">\n",
       "  <thead>\n",
       "    <tr style=\"text-align: right;\">\n",
       "      <th></th>\n",
       "      <th>TASQ/BETA(1-sec)</th>\n",
       "    </tr>\n",
       "  </thead>\n",
       "  <tbody>\n",
       "    <tr>\n",
       "      <th>BBB</th>\n",
       "      <td>-1.301828</td>\n",
       "    </tr>\n",
       "  </tbody>\n",
       "</table>\n",
       "</div>"
      ],
      "text/plain": [
       "     TASQ/BETA(1-sec)\n",
       "BBB         -1.301828"
      ]
     },
     "execution_count": 5,
     "metadata": {},
     "output_type": "execute_result"
    },
    {
     "data": {
      "image/png": "[encoded data removed]",
      "text/plain": [
       "<Figure size 432x288 with 1 Axes>"
      ]
     },
     "metadata": {
      "needs_background": "light"
     },
     "output_type": "display_data"
    }
   ],
   "source": [
    "codec = \"hevc\"\n",
    "prop = \"dur_stall\"\n",
    "\n",
    "groups = []\n",
    "videos = [\n",
    "    # 'Aspen', \n",
    "    'BBB', \n",
    "    # \"Burn\", \n",
    "    # \"Football\"\n",
    "]\n",
    "\n",
    "def percentage(a,b):\n",
    "    return (a-b)*100/b\n",
    "\n",
    "for video in videos:\n",
    "    data = []\n",
    "    data.append(percentage(read_stats(\"quic\", codec, video, 1, True)[prop], read_stats(\"tcp\", codec, video, 1, True)[prop]))\n",
    "    # data.append(percentage(read_stats(\"quic\", codec, video, 1, True)[prop], read_stats(\"tcp\", codec, video, 1, False)[prop]))\n",
    "    # data.append(percentage(read_stats(\"quic\", codec, video, 2, True)[prop], read_stats(\"tcp\", codec, video, 2, True)[prop]))\n",
    "    # data.append(percentage(read_stats(\"quic\", codec, video, 2, True)[prop], read_stats(\"tcp\", codec, video, 2, False)[prop]))\n",
    "    groups.append(data)\n",
    "\n",
    "\n",
    "# Convert data to pandas DataFrame.\n",
    "df = pd.DataFrame(groups, index=videos)\n",
    "# df\n",
    "df = df.rename(columns={\n",
    "    0:\"TASQ/BETA(1-sec)\",\n",
    "    # 1:\"TASQ/DASH(1-sec)\",\n",
    "    # 2:\"TASQ/BETA(2-sec)\",\n",
    "    # 3:\"TASQ/DASH(2-sec)\",\n",
    "})\n",
    "ax = df.plot.bar(bottom=-1)\n",
    "ax.set_ylabel(\"Stall Duration (%)\")\n",
    "# ax.set_ylim(-1)\n",
    "df"
   ]
  },
  {
   "cell_type": "markdown",
   "metadata": {},
   "source": []
  },
  {
   "cell_type": "code",
   "execution_count": null,
   "metadata": {},
   "outputs": [],
   "source": []
  }
 ],
 "metadata": {
  "kernelspec": {
   "display_name": "Python 3.9.12 ('beta')",
   "language": "python",
   "name": "python3"
  },
  "language_info": {
   "codemirror_mode": {
    "name": "ipython",
    "version": 3
   },
   "file_extension": ".py",
   "mimetype": "text/x-python",
   "name": "python",
   "nbconvert_exporter": "python",
   "pygments_lexer": "ipython3",
   "version": "3.9.12"
  },
  "orig_nbformat": 4,
  "vscode": {
   "interpreter": {
    "hash": "9d38648c61a5a609e1079df4b68550afed0016f5fd46d8ef3e963cbede087ade"
   }
  }
 },
 "nbformat": 4,
 "nbformat_minor": 2
}
