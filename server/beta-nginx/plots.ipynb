{
 "cells": [
  {
   "cell_type": "code",
   "execution_count": 1,
   "metadata": {},
   "outputs": [],
   "source": [
    "import pandas as pd\n",
    "import json\n",
    "from pprint import pprint\n",
    "\n",
    "import numpy as np\n",
    "import matplotlib.pyplot as plt\n",
    "import statistics"
   ]
  },
  {
   "cell_type": "code",
   "execution_count": 11,
   "metadata": {},
   "outputs": [],
   "source": [
    "def read_stats(protocol,codec,video,length,beta):\n",
    "    name = f\"result-{codec}-{video}\"\n",
    "    if length == 2:\n",
    "        name += \"-2sec\"\n",
    "    if beta:\n",
    "        name += \"--beta\"\n",
    "    name += f\"-{protocol}\"\n",
    "    tries = 0\n",
    "    data = {\n",
    "        \"num_stall\": [],\n",
    "        \"dur_stall\": []\n",
    "    }\n",
    "    try:\n",
    "        while True:\n",
    "            path = f\"../../results/{name}-{str(tries+1)}.json\"\n",
    "            with open(path) as f:\n",
    "                d = json.load(f)\n",
    "                data[\"num_stall\"].append(d[\"num_stall\"])\n",
    "                data[\"dur_stall\"].append(d[\"dur_stall\"])\n",
    "                print(path, d[\"dur_stall\"])\n",
    "            tries += 1\n",
    "    except:\n",
    "        pass\n",
    "    if len(data[\"num_stall\"]) > 1:\n",
    "        print(\"STD. DEV. (num_stall) = \", statistics.stdev(data[\"num_stall\"]))\n",
    "        print(\"STD. DEV. (dur_stall) = \", statistics.stdev(data[\"dur_stall\"]))\n",
    "    else:\n",
    "        print(\"Only 1 try\")\n",
    "    data[\"num_stall\"] = sum(data[\"num_stall\"])/len(data[\"num_stall\"])\n",
    "    data[\"dur_stall\"] = sum(data[\"dur_stall\"])/len(data[\"dur_stall\"])\n",
    "    return data\n"
   ]
  },
  {
   "cell_type": "code",
   "execution_count": 18,
   "metadata": {},
   "outputs": [
    {
     "name": "stdout",
     "output_type": "stream",
     "text": [
      "../../results/result-hevc-BBB--beta-tcp-1.json 16.099924087524414\n",
      "../../results/result-hevc-BBB--beta-tcp-2.json 16.38892674446106\n",
      "../../results/result-hevc-BBB--beta-tcp-3.json 15.945120811462402\n",
      "../../results/result-hevc-BBB--beta-tcp-4.json 16.093219995498657\n",
      "../../results/result-hevc-BBB--beta-tcp-5.json 13.977815866470337\n",
      "../../results/result-hevc-BBB--beta-tcp-6.json 13.784809112548828\n",
      "../../results/result-hevc-BBB--beta-tcp-7.json 14.79000186920166\n",
      "../../results/result-hevc-BBB--beta-tcp-8.json 15.183558225631714\n",
      "../../results/result-hevc-BBB--beta-tcp-9.json 15.435183763504028\n",
      "../../results/result-hevc-BBB--beta-tcp-10.json 14.378692150115967\n",
      "../../results/result-hevc-BBB--beta-tcp-11.json 15.497371912002563\n",
      "../../results/result-hevc-BBB--beta-tcp-12.json 14.239026069641113\n",
      "../../results/result-hevc-BBB--beta-tcp-13.json 13.78354787826538\n",
      "../../results/result-hevc-BBB--beta-tcp-14.json 13.52427077293396\n",
      "../../results/result-hevc-BBB--beta-tcp-15.json 12.370076894760132\n",
      "../../results/result-hevc-BBB--beta-tcp-16.json 13.926354885101318\n",
      "../../results/result-hevc-BBB--beta-tcp-17.json 15.24293303489685\n",
      "../../results/result-hevc-BBB--beta-tcp-18.json 14.843848943710327\n",
      "../../results/result-hevc-BBB--beta-tcp-19.json 14.135759115219116\n",
      "../../results/result-hevc-BBB--beta-tcp-20.json 14.08326005935669\n",
      "STD. DEV. (num_stall) =  0.22360679774997896\n",
      "STD. DEV. (dur_stall) =  1.0426791061769718\n",
      "../../results/result-hevc-BBB--beta-quic-1.json 13.572664976119995\n",
      "../../results/result-hevc-BBB--beta-quic-2.json 15.583953142166138\n",
      "../../results/result-hevc-BBB--beta-quic-3.json 15.53878402709961\n",
      "../../results/result-hevc-BBB--beta-quic-4.json 14.723013401031494\n",
      "../../results/result-hevc-BBB--beta-quic-5.json 14.710357189178467\n",
      "../../results/result-hevc-BBB--beta-quic-6.json 17.74854588508606\n",
      "../../results/result-hevc-BBB--beta-quic-7.json 13.54684829711914\n",
      "../../results/result-hevc-BBB--beta-quic-8.json 14.116636991500854\n",
      "../../results/result-hevc-BBB--beta-quic-9.json 13.911662817001343\n",
      "../../results/result-hevc-BBB--beta-quic-10.json 14.114081144332886\n",
      "../../results/result-hevc-BBB--beta-quic-11.json 18.083849906921387\n",
      "../../results/result-hevc-BBB--beta-quic-12.json 18.28666090965271\n",
      "../../results/result-hevc-BBB--beta-quic-13.json 18.235416889190674\n",
      "../../results/result-hevc-BBB--beta-quic-14.json 18.084580183029175\n",
      "../../results/result-hevc-BBB--beta-quic-15.json 18.085153341293335\n",
      "../../results/result-hevc-BBB--beta-quic-16.json 18.09487819671631\n",
      "../../results/result-hevc-BBB--beta-quic-17.json 14.723816871643066\n",
      "../../results/result-hevc-BBB--beta-quic-18.json 14.680155038833618\n",
      "../../results/result-hevc-BBB--beta-quic-19.json 18.252328872680664\n",
      "STD. DEV. (num_stall) =  0.0\n",
      "STD. DEV. (dur_stall) =  1.9178294946578969\n"
     ]
    },
    {
     "data": {
      "text/plain": [
       "{'BETA(1-sec)': 14.686185109615327, 'TASQ(1-sec)': 16.00491516213668}"
      ]
     },
     "metadata": {},
     "output_type": "display_data"
    },
    {
     "data": {
      "image/png": "[encoded data removed]",
      "text/plain": [
       "<Figure size 720x360 with 1 Axes>"
      ]
     },
     "metadata": {
      "needs_background": "light"
     },
     "output_type": "display_data"
    }
   ],
   "source": [
    "video = \"BBB\"\n",
    "codec = \"hevc\"\n",
    "prop = \"dur_stall\"\n",
    "\n",
    "data = {}\n",
    "data[\"BETA(1-sec)\"] = read_stats(\"tcp\",codec, video, 1, True)[prop]\n",
    "data[\"TASQ(1-sec)\"] = read_stats(\"quic\",codec, video, 1, True)[prop]\n",
    "# data[\"BETA(2-sec)\"] = read_stats(\"tcp\",codec, video, 2, True)[prop]\n",
    "# data[\"TASQ(2-sec)\"] = read_stats(\"quic\",codec, video, 2, True)[prop]\n",
    "display(data)      \n",
    "courses = list(data.keys())\n",
    "values = list(data.values())\n",
    "  \n",
    "fig = plt.figure(figsize = (10, 5))\n",
    " \n",
    "# creating the bar plot\n",
    "plt.bar(courses, values, color ='maroon',\n",
    "        width = 0.4)\n",
    " \n",
    "# plt.xlabel(\"Courses offered\")\n",
    "plt.ylabel(prop)\n",
    "plt.title(video)\n",
    "plt.show()\n"
   ]
  },
  {
   "cell_type": "code",
   "execution_count": 15,
   "metadata": {},
   "outputs": [
    {
     "name": "stdout",
     "output_type": "stream",
     "text": [
      "../../results/result-hevc-BBB--beta-quic-1.json 13.709197044372559\n",
      "../../results/result-hevc-BBB--beta-quic-2.json 13.666515827178955\n",
      "../../results/result-hevc-BBB--beta-quic-3.json 13.499924898147583\n",
      "../../results/result-hevc-BBB--beta-quic-4.json 14.01919174194336\n",
      "../../results/result-hevc-BBB--beta-quic-5.json 13.668361186981201\n",
      "../../results/result-hevc-BBB--beta-quic-6.json 13.948677778244019\n",
      "../../results/result-hevc-BBB--beta-quic-7.json 18.223701000213623\n",
      "../../results/result-hevc-BBB--beta-quic-8.json 18.073304891586304\n",
      "../../results/result-hevc-BBB--beta-quic-9.json 18.173444986343384\n",
      "STD. DEV. (num_stall) =  0.0\n",
      "STD. DEV. (dur_stall) =  2.208129464751904\n",
      "../../results/result-hevc-BBB--beta-tcp-1.json 13.527272939682007\n",
      "../../results/result-hevc-BBB--beta-tcp-2.json 15.332703828811646\n",
      "../../results/result-hevc-BBB--beta-tcp-3.json 14.923534154891968\n",
      "../../results/result-hevc-BBB--beta-tcp-4.json 15.239654064178467\n",
      "../../results/result-hevc-BBB--beta-tcp-5.json 15.342743158340454\n",
      "../../results/result-hevc-BBB--beta-tcp-6.json 15.383373022079468\n",
      "../../results/result-hevc-BBB--beta-tcp-7.json 14.930706024169922\n",
      "../../results/result-hevc-BBB--beta-tcp-8.json 14.88272213935852\n",
      "../../results/result-hevc-BBB--beta-tcp-9.json 15.023096084594727\n",
      "../../results/result-hevc-BBB--beta-tcp-10.json 15.142213106155396\n",
      "STD. DEV. (num_stall) =  0.0\n",
      "STD. DEV. (dur_stall) =  0.5415268568734778\n"
     ]
    },
    {
     "data": {
      "text/html": [
       "<div>\n",
       "<style scoped>\n",
       "    .dataframe tbody tr th:only-of-type {\n",
       "        vertical-align: middle;\n",
       "    }\n",
       "\n",
       "    .dataframe tbody tr th {\n",
       "        vertical-align: top;\n",
       "    }\n",
       "\n",
       "    .dataframe thead th {\n",
       "        text-align: right;\n",
       "    }\n",
       "</style>\n",
       "<table border=\"1\" class=\"dataframe\">\n",
       "  <thead>\n",
       "    <tr style=\"text-align: right;\">\n",
       "      <th></th>\n",
       "      <th>TASQ/BETA(1-sec)</th>\n",
       "    </tr>\n",
       "  </thead>\n",
       "  <tbody>\n",
       "    <tr>\n",
       "      <th>BBB</th>\n",
       "      <td>1.652702</td>\n",
       "    </tr>\n",
       "  </tbody>\n",
       "</table>\n",
       "</div>"
      ],
      "text/plain": [
       "     TASQ/BETA(1-sec)\n",
       "BBB          1.652702"
      ]
     },
     "execution_count": 15,
     "metadata": {},
     "output_type": "execute_result"
    },
    {
     "data": {
      "image/png": "[encoded data removed]",
      "text/plain": [
       "<Figure size 432x288 with 1 Axes>"
      ]
     },
     "metadata": {
      "needs_background": "light"
     },
     "output_type": "display_data"
    }
   ],
   "source": [
    "codec = \"hevc\"\n",
    "prop = \"dur_stall\"\n",
    "\n",
    "groups = []\n",
    "videos = [\n",
    "    # 'Aspen', \n",
    "    'BBB', \n",
    "    # \"Burn\", \n",
    "    # \"Football\"\n",
    "]\n",
    "\n",
    "def percentage(a,b):\n",
    "    return (a-b)*100/b\n",
    "\n",
    "for video in videos:\n",
    "    data = []\n",
    "    data.append(percentage(read_stats(\"quic\", codec, video, 1, True)[prop], read_stats(\"tcp\", codec, video, 1, True)[prop]))\n",
    "    # data.append(percentage(read_stats(\"quic\", codec, video, 1, True)[prop], read_stats(\"tcp\", codec, video, 1, False)[prop]))\n",
    "    # data.append(percentage(read_stats(\"quic\", codec, video, 2, True)[prop], read_stats(\"tcp\", codec, video, 2, True)[prop]))\n",
    "    # data.append(percentage(read_stats(\"quic\", codec, video, 2, True)[prop], read_stats(\"tcp\", codec, video, 2, False)[prop]))\n",
    "    groups.append(data)\n",
    "\n",
    "\n",
    "# Convert data to pandas DataFrame.\n",
    "df = pd.DataFrame(groups, index=videos)\n",
    "# df\n",
    "df = df.rename(columns={\n",
    "    0:\"TASQ/BETA(1-sec)\",\n",
    "    # 1:\"TASQ/DASH(1-sec)\",\n",
    "    # 2:\"TASQ/BETA(2-sec)\",\n",
    "    # 3:\"TASQ/DASH(2-sec)\",\n",
    "})\n",
    "ax = df.plot.bar(bottom=-1)\n",
    "ax.set_ylabel(\"Stall Duration (%)\")\n",
    "# ax.set_ylim(-1)\n",
    "df"
   ]
  },
  {
   "cell_type": "markdown",
   "metadata": {},
   "source": []
  },
  {
   "cell_type": "code",
   "execution_count": null,
   "metadata": {},
   "outputs": [],
   "source": [
    "# Throughput formula\n",
    "# Buffer level\n",
    "# bytes_transferred\n",
    "# Plot playback segment by segment"
   ]
  }
 ],
 "metadata": {
  "kernelspec": {
   "display_name": "Python 3.9.12 ('beta')",
   "language": "python",
   "name": "python3"
  },
  "language_info": {
   "codemirror_mode": {
    "name": "ipython",
    "version": 3
   },
   "file_extension": ".py",
   "mimetype": "text/x-python",
   "name": "python",
   "nbconvert_exporter": "python",
   "pygments_lexer": "ipython3",
   "version": "3.9.12"
  },
  "orig_nbformat": 4,
  "vscode": {
   "interpreter": {
    "hash": "9d38648c61a5a609e1079df4b68550afed0016f5fd46d8ef3e963cbede087ade"
   }
  }
 },
 "nbformat": 4,
 "nbformat_minor": 2
}
